{
 "cells": [
  {
   "cell_type": "code",
   "execution_count": 1,
   "id": "f1f7a7da",
   "metadata": {},
   "outputs": [],
   "source": [
    "import numpy as np\n",
    "import pandas as pd\n",
    "import io\n",
    "import requests\n",
    "import seaborn as sns\n",
    "from matplotlib import pyplot as plt\n",
    "import pickle\n",
    "import os\n",
    "from pandas.api.types import CategoricalDtype\n",
    "from sklearn.base import BaseEstimator, TransformerMixin\n",
    "from sklearn.pipeline import Pipeline\n",
    "from sklearn.metrics import accuracy_score\n",
    "from sklearn.linear_model import LogisticRegression\n",
    "from sklearn.model_selection import GridSearchCV\n",
    "from sklearn.metrics import classification_report\n",
    "from sklearn.metrics import confusion_matrix\n",
    "from sklearn.preprocessing import StandardScaler\n",
    "from sklearn.pipeline import FeatureUnion\n",
    "from sklearn.model_selection import cross_val_score\n",
    "%matplotlib inline"
   ]
  },
  {
   "cell_type": "code",
   "execution_count": 22,
   "id": "917de208",
   "metadata": {},
   "outputs": [],
   "source": [
    "def load_dataset(path, urls):\n",
    "    if not os.path.exists(path):\n",
    "        os.mkdir(path)\n",
    "\n",
    "    for url in urls:\n",
    "        data = requests.get(url).content\n",
    "        filename = os.path.join(path, os.path.basename(url))\n",
    "        with open(filename, \"wb\") as file:\n",
    "            file.write(data)"
   ]
  },
  {
   "cell_type": "markdown",
   "id": "9aeac050",
   "metadata": {},
   "source": [
    "We will create a data folder in the current working directory and store the content of the URLs."
   ]
  },
  {
   "cell_type": "code",
   "execution_count": 21,
   "id": "2ddc4fbb",
   "metadata": {},
   "outputs": [],
   "source": [
    "urls = [\"http://archive.ics.uci.edu/ml/machine-learning-  databases/adult/adult.data\",\n",
    "        \"https://archive.ics.uci.edu/ml/machine-learning-databases/adult/adult.names\",\n",
    "        \"https://archive.ics.uci.edu/ml/machine-learning-databases/adult/adult.test\"]\n",
    "load_dataset('data', urls)"
   ]
  },
  {
   "cell_type": "markdown",
   "id": "2454a0a2",
   "metadata": {},
   "source": [
    "Next, we load the data into a pandas dataframe using the read_csv function."
   ]
  },
  {
   "cell_type": "code",
   "execution_count": 6,
   "id": "30cbc945",
   "metadata": {},
   "outputs": [
    {
     "name": "stderr",
     "output_type": "stream",
     "text": [
      "<ipython-input-6-31dace290a0d>:3: ParserWarning: Falling back to the 'python' engine because the 'c' engine does not support regex separators (separators > 1 char and different from '\\s+' are interpreted as regex); you can avoid this warning by specifying engine='python'.\n",
      "  train_data = pd.read_csv('data/adult.data', names=columns,\n",
      "<ipython-input-6-31dace290a0d>:5: ParserWarning: Falling back to the 'python' engine because the 'c' engine does not support regex separators (separators > 1 char and different from '\\s+' are interpreted as regex); you can avoid this warning by specifying engine='python'.\n",
      "  test_data  = pd.read_csv('data/adult.test', names=columns,\n"
     ]
    }
   ],
   "source": [
    "columns = [\"age\", \"workClass\", \"fnlwgt\", \"education\", \"education-num\",\"marital-status\", \"occupation\", \"relationship\",\n",
    "          \"race\", \"sex\", \"capital-gain\", \"capital-loss\", \"hours-per-week\", \"native-country\", \"income\"]\n",
    "train_data = pd.read_csv('data/adult.data', names=columns, \n",
    "             sep=' *, *', na_values='?')\n",
    "test_data  = pd.read_csv('data/adult.test', names=columns, \n",
    "             sep=' *, *', skiprows=1, na_values='?')"
   ]
  },
  {
   "cell_type": "markdown",
   "id": "becf5bdc",
   "metadata": {},
   "source": [
    "There are some whitespaces before and after the data values. To trim all the whitespaces we use the separator ‘ *, *’. The test dataset has a weird first line, hence we skip the line using skiprows=1. The missing values in the dataset are indicated by ?\n",
    "Next, we will explore the data. This is an important step before going building the model."
   ]
  },
  {
   "cell_type": "markdown",
   "id": "5e651d14",
   "metadata": {},
   "source": [
    "Exploratory Data Analysis"
   ]
  },
  {
   "cell_type": "code",
   "execution_count": null,
   "id": "9f8c0472",
   "metadata": {},
   "outputs": [],
   "source": [
    "RangeIndex: 32561 entries\n",
    "Data columns      (total 15 columns)\n",
    "age               32561 non-null int64 \n",
    "workClass         30725 non-null object \n",
    "fnlwgt            32561 non-null int64 \n",
    "education         32561 non-null object \n",
    "education-num     32561 non-null int64 \n",
    "marital-status    32561 non-null object \n",
    "occupation        30718 non-null object \n",
    "relationship      32561 non-null object \n",
    "race              32561 non-null object \n",
    "sex               32561 non-null object \n",
    "capital-gain      32561 non-null int64 \n",
    "capital-loss      32561 non-null int64 \n",
    "hours-per-week    32561 non-null int64 \n",
    "native-country    31978 non-null object \n",
    "income            32561 non-null object"
   ]
  },
  {
   "cell_type": "markdown",
   "id": "314c58e6",
   "metadata": {},
   "source": [
    "Observations\n",
    "There are 32561 samples in the training dataset\n",
    "There are both categorical and numerical columns in the dataset\n",
    "The columns workClass, occupation, native-country have missing values\n",
    "Similarly, for the test dataset\n",
    "There are 16281 samples\n",
    "There are no missing values\n",
    "Let’s look the numerical and the categorical data with the help of some visualizations.\n",
    "Handling Numerical Columns\n",
    "We select the numerical columns using the select_dtypes function."
   ]
  },
  {
   "cell_type": "code",
   "execution_count": 17,
   "id": "7eae050c",
   "metadata": {},
   "outputs": [
    {
     "name": "stdout",
     "output_type": "stream",
     "text": [
      "Index([], dtype='object')\n"
     ]
    },
    {
     "data": {
      "text/plain": [
       "['age',\n",
       " 'fnlwgt',\n",
       " 'education-num',\n",
       " 'capital-gain',\n",
       " 'capital-loss',\n",
       " 'hours-per-week']"
      ]
     },
     "execution_count": 17,
     "metadata": {},
     "output_type": "execute_result"
    }
   ],
   "source": [
    "num_attributes = train_data.select_dtypes(include=['int'])\n",
    "print(num_attributes.columns)\n",
    "['age', 'fnlwgt', 'education-num', 'capital-gain', 'capital-loss',        'hours-per-week']"
   ]
  },
  {
   "cell_type": "markdown",
   "id": "e0c88d0e",
   "metadata": {},
   "source": [
    "The variables age, hours-per-week are self-explanatory.\n",
    "fnlwgt: sampling weight\n",
    "education-num: number of years of education in total\n",
    "capital-gain/capital-loss: income from investment sources other than salary/wages\n",
    "fnlwgt is not related to the target variable income and will be removed before building the model"
   ]
  },
  {
   "cell_type": "markdown",
   "id": "5495a295",
   "metadata": {},
   "source": [
    "# Data Visualizations"
   ]
  },
  {
   "cell_type": "code",
   "execution_count": null,
   "id": "23d8a424",
   "metadata": {},
   "outputs": [],
   "source": [
    "num_attributes.hist(figsize=(10,10))"
   ]
  },
  {
   "cell_type": "code",
   "execution_count": 19,
   "id": "ec5371ff",
   "metadata": {},
   "outputs": [
    {
     "data": {
      "text/html": [
       "<div>\n",
       "<style scoped>\n",
       "    .dataframe tbody tr th:only-of-type {\n",
       "        vertical-align: middle;\n",
       "    }\n",
       "\n",
       "    .dataframe tbody tr th {\n",
       "        vertical-align: top;\n",
       "    }\n",
       "\n",
       "    .dataframe thead th {\n",
       "        text-align: right;\n",
       "    }\n",
       "</style>\n",
       "<table border=\"1\" class=\"dataframe\">\n",
       "  <thead>\n",
       "    <tr style=\"text-align: right;\">\n",
       "      <th></th>\n",
       "      <th>workClass</th>\n",
       "      <th>fnlwgt</th>\n",
       "      <th>education</th>\n",
       "      <th>education-num</th>\n",
       "      <th>marital-status</th>\n",
       "      <th>occupation</th>\n",
       "      <th>relationship</th>\n",
       "      <th>race</th>\n",
       "      <th>sex</th>\n",
       "      <th>capital-gain</th>\n",
       "      <th>capital-loss</th>\n",
       "      <th>hours-per-week</th>\n",
       "      <th>native-country</th>\n",
       "      <th>income</th>\n",
       "    </tr>\n",
       "  </thead>\n",
       "  <tbody>\n",
       "    <tr>\n",
       "      <th>count</th>\n",
       "      <td>0.0</td>\n",
       "      <td>0.0</td>\n",
       "      <td>0.0</td>\n",
       "      <td>0.0</td>\n",
       "      <td>0.0</td>\n",
       "      <td>0.0</td>\n",
       "      <td>0.0</td>\n",
       "      <td>0.0</td>\n",
       "      <td>0.0</td>\n",
       "      <td>0.0</td>\n",
       "      <td>0.0</td>\n",
       "      <td>0.0</td>\n",
       "      <td>0.0</td>\n",
       "      <td>0.0</td>\n",
       "    </tr>\n",
       "    <tr>\n",
       "      <th>mean</th>\n",
       "      <td>NaN</td>\n",
       "      <td>NaN</td>\n",
       "      <td>NaN</td>\n",
       "      <td>NaN</td>\n",
       "      <td>NaN</td>\n",
       "      <td>NaN</td>\n",
       "      <td>NaN</td>\n",
       "      <td>NaN</td>\n",
       "      <td>NaN</td>\n",
       "      <td>NaN</td>\n",
       "      <td>NaN</td>\n",
       "      <td>NaN</td>\n",
       "      <td>NaN</td>\n",
       "      <td>NaN</td>\n",
       "    </tr>\n",
       "    <tr>\n",
       "      <th>std</th>\n",
       "      <td>NaN</td>\n",
       "      <td>NaN</td>\n",
       "      <td>NaN</td>\n",
       "      <td>NaN</td>\n",
       "      <td>NaN</td>\n",
       "      <td>NaN</td>\n",
       "      <td>NaN</td>\n",
       "      <td>NaN</td>\n",
       "      <td>NaN</td>\n",
       "      <td>NaN</td>\n",
       "      <td>NaN</td>\n",
       "      <td>NaN</td>\n",
       "      <td>NaN</td>\n",
       "      <td>NaN</td>\n",
       "    </tr>\n",
       "    <tr>\n",
       "      <th>min</th>\n",
       "      <td>NaN</td>\n",
       "      <td>NaN</td>\n",
       "      <td>NaN</td>\n",
       "      <td>NaN</td>\n",
       "      <td>NaN</td>\n",
       "      <td>NaN</td>\n",
       "      <td>NaN</td>\n",
       "      <td>NaN</td>\n",
       "      <td>NaN</td>\n",
       "      <td>NaN</td>\n",
       "      <td>NaN</td>\n",
       "      <td>NaN</td>\n",
       "      <td>NaN</td>\n",
       "      <td>NaN</td>\n",
       "    </tr>\n",
       "    <tr>\n",
       "      <th>25%</th>\n",
       "      <td>NaN</td>\n",
       "      <td>NaN</td>\n",
       "      <td>NaN</td>\n",
       "      <td>NaN</td>\n",
       "      <td>NaN</td>\n",
       "      <td>NaN</td>\n",
       "      <td>NaN</td>\n",
       "      <td>NaN</td>\n",
       "      <td>NaN</td>\n",
       "      <td>NaN</td>\n",
       "      <td>NaN</td>\n",
       "      <td>NaN</td>\n",
       "      <td>NaN</td>\n",
       "      <td>NaN</td>\n",
       "    </tr>\n",
       "    <tr>\n",
       "      <th>50%</th>\n",
       "      <td>NaN</td>\n",
       "      <td>NaN</td>\n",
       "      <td>NaN</td>\n",
       "      <td>NaN</td>\n",
       "      <td>NaN</td>\n",
       "      <td>NaN</td>\n",
       "      <td>NaN</td>\n",
       "      <td>NaN</td>\n",
       "      <td>NaN</td>\n",
       "      <td>NaN</td>\n",
       "      <td>NaN</td>\n",
       "      <td>NaN</td>\n",
       "      <td>NaN</td>\n",
       "      <td>NaN</td>\n",
       "    </tr>\n",
       "    <tr>\n",
       "      <th>75%</th>\n",
       "      <td>NaN</td>\n",
       "      <td>NaN</td>\n",
       "      <td>NaN</td>\n",
       "      <td>NaN</td>\n",
       "      <td>NaN</td>\n",
       "      <td>NaN</td>\n",
       "      <td>NaN</td>\n",
       "      <td>NaN</td>\n",
       "      <td>NaN</td>\n",
       "      <td>NaN</td>\n",
       "      <td>NaN</td>\n",
       "      <td>NaN</td>\n",
       "      <td>NaN</td>\n",
       "      <td>NaN</td>\n",
       "    </tr>\n",
       "    <tr>\n",
       "      <th>max</th>\n",
       "      <td>NaN</td>\n",
       "      <td>NaN</td>\n",
       "      <td>NaN</td>\n",
       "      <td>NaN</td>\n",
       "      <td>NaN</td>\n",
       "      <td>NaN</td>\n",
       "      <td>NaN</td>\n",
       "      <td>NaN</td>\n",
       "      <td>NaN</td>\n",
       "      <td>NaN</td>\n",
       "      <td>NaN</td>\n",
       "      <td>NaN</td>\n",
       "      <td>NaN</td>\n",
       "      <td>NaN</td>\n",
       "    </tr>\n",
       "  </tbody>\n",
       "</table>\n",
       "</div>"
      ],
      "text/plain": [
       "       workClass  fnlwgt  education  education-num  marital-status  \\\n",
       "count        0.0     0.0        0.0            0.0             0.0   \n",
       "mean         NaN     NaN        NaN            NaN             NaN   \n",
       "std          NaN     NaN        NaN            NaN             NaN   \n",
       "min          NaN     NaN        NaN            NaN             NaN   \n",
       "25%          NaN     NaN        NaN            NaN             NaN   \n",
       "50%          NaN     NaN        NaN            NaN             NaN   \n",
       "75%          NaN     NaN        NaN            NaN             NaN   \n",
       "max          NaN     NaN        NaN            NaN             NaN   \n",
       "\n",
       "       occupation  relationship  race  sex  capital-gain  capital-loss  \\\n",
       "count         0.0           0.0   0.0  0.0           0.0           0.0   \n",
       "mean          NaN           NaN   NaN  NaN           NaN           NaN   \n",
       "std           NaN           NaN   NaN  NaN           NaN           NaN   \n",
       "min           NaN           NaN   NaN  NaN           NaN           NaN   \n",
       "25%           NaN           NaN   NaN  NaN           NaN           NaN   \n",
       "50%           NaN           NaN   NaN  NaN           NaN           NaN   \n",
       "75%           NaN           NaN   NaN  NaN           NaN           NaN   \n",
       "max           NaN           NaN   NaN  NaN           NaN           NaN   \n",
       "\n",
       "       hours-per-week  native-country  income  \n",
       "count             0.0             0.0     0.0  \n",
       "mean              NaN             NaN     NaN  \n",
       "std               NaN             NaN     NaN  \n",
       "min               NaN             NaN     NaN  \n",
       "25%               NaN             NaN     NaN  \n",
       "50%               NaN             NaN     NaN  \n",
       "75%               NaN             NaN     NaN  \n",
       "max               NaN             NaN     NaN  "
      ]
     },
     "execution_count": 19,
     "metadata": {},
     "output_type": "execute_result"
    }
   ],
   "source": [
    "train_data.describe()"
   ]
  },
  {
   "cell_type": "markdown",
   "id": "0e6800ca",
   "metadata": {},
   "source": [
    "Observations\n",
    "None of the numerical attributes have missing values\n",
    "The values are on different scales. Many machine learning models require the values to be on the same scale. We will use StandardScaler from the sklearn library to scale the features."
   ]
  },
  {
   "cell_type": "code",
   "execution_count": null,
   "id": "7c1a029c",
   "metadata": {},
   "outputs": [],
   "source": []
  }
 ],
 "metadata": {
  "kernelspec": {
   "display_name": "Python 3",
   "language": "python",
   "name": "python3"
  },
  "language_info": {
   "codemirror_mode": {
    "name": "ipython",
    "version": 3
   },
   "file_extension": ".py",
   "mimetype": "text/x-python",
   "name": "python",
   "nbconvert_exporter": "python",
   "pygments_lexer": "ipython3",
   "version": "3.8.8"
  }
 },
 "nbformat": 4,
 "nbformat_minor": 5
}
